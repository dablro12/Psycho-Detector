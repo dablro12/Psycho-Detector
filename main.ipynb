{
 "cells": [
  {
   "cell_type": "code",
   "execution_count": 2,
   "id": "6dc2306c-24ed-40cb-aaf0-c2043f94075c",
   "metadata": {},
   "outputs": [],
   "source": [
    "#webcam 작동 여부 read \n",
    "cam = cv2.VideoCapture(0) # video capture\n",
    "while True:\n",
    "    _, frame = cam.read()\n",
    "    cv2.imshow('Camera feed', frame)\n",
    "    if cv2.waitKey(1) & 0xFF == ord('q'): #q누르면 꺼짐\n",
    "        break\n",
    "cam.release() #카메라 설정권한 on해주셈 "
   ]
  },
  {
   "cell_type": "code",
   "execution_count": 1,
   "id": "6dcdf368-7e77-403d-ba32-030c4a186d8f",
   "metadata": {},
   "outputs": [],
   "source": [
    "from imutils.video import VideoStream\n",
    "import cv2\n",
    "import time\n",
    "import f_detector #만든 detector 라이브러리 \n",
    "import imutils \n",
    "import numpy as np\n",
    "import os"
   ]
  },
  {
   "cell_type": "code",
   "execution_count": 2,
   "id": "7e8b889e-0a6d-4e72-b428-3011ab86accf",
   "metadata": {},
   "outputs": [
    {
     "name": "stdout",
     "output_type": "stream",
     "text": [
      "data con : Real Time\n"
     ]
    }
   ],
   "source": [
    "detector = f_detector.eye_blink_detector() \n",
    "# initial 변수 \n",
    "COUNTER = 0 \n",
    "TOTAL = 0 \n",
    "con = False\n",
    "\n",
    "if con == True:\n",
    "    t_data = './data/test1.mp4'\n",
    "    vs = VideoStream(src = t_data).start() \n",
    "else:\n",
    "    t_data = 'Real Time'\n",
    "    vs = VideoStream(src = 0).start() \n",
    "    \n",
    "\n",
    "print(f'data con : {t_data}')\n",
    "# video 측정 \n",
    "while True:\n",
    "    start_time = time.time()\n",
    "    im = vs.read() \n",
    "    im = cv2.flip(im, 1)\n",
    "    im = imutils.resize(im, width = 700)\n",
    "    gray = cv2.cvtColor(im, cv2.COLOR_BGR2GRAY) \n",
    "\n",
    "    #detector ratio 측정\n",
    "    rectangles = detector.detector_faces(gray, 0)\n",
    "    boxes_face = f_detector.convert_rectangles2array(rectangles, im)\n",
    "    if len(boxes_face) != 0: # 사람 감지시\n",
    "        #eye select with mask \n",
    "        areas = f_detector.get_areas(boxes_face)\n",
    "        index = np.argmax(areas)\n",
    "        rectangles = rectangles[index]\n",
    "        boxes_face = np.expand_dims(boxes_face[index], axis = 0)\n",
    "        # 깜빡임 detector\n",
    "        COUNTER, TOTAL = detector.eye_blink(gray, rectangles, COUNTER, TOTAL)\n",
    "        # indicate bounding box\n",
    "        img_post = f_detector.bounding_box(im, boxes_face, ['blinks: {}'.format(TOTAL)])\n",
    "    else:\n",
    "        img_post = im \n",
    "    \n",
    "    # visualization\n",
    "    end_time = time.time() - start_time \n",
    "    FPS = 1/end_time \n",
    "    cv2.putText(img_post,f\"FPS: {round(FPS,3)}\",(10,50),cv2.FONT_HERSHEY_COMPLEX,1,(0,0,255),2)\n",
    "    cv2.imshow('blink_detection',img_post)\n",
    "    if cv2.waitKey(1) &0xFF == ord('q'):\n",
    "        break"
   ]
  },
  {
   "cell_type": "code",
   "execution_count": null,
   "id": "73ac250e-37f1-4047-9804-4744f93e9c18",
   "metadata": {},
   "outputs": [],
   "source": []
  }
 ],
 "metadata": {
  "kernelspec": {
   "display_name": "dh",
   "language": "python",
   "name": "dh"
  },
  "language_info": {
   "codemirror_mode": {
    "name": "ipython",
    "version": 3
   },
   "file_extension": ".py",
   "mimetype": "text/x-python",
   "name": "python",
   "nbconvert_exporter": "python",
   "pygments_lexer": "ipython3",
   "version": "3.8.18"
  }
 },
 "nbformat": 4,
 "nbformat_minor": 5
}
