{
 "cells": [
  {
   "cell_type": "code",
   "execution_count": 9,
   "metadata": {},
   "outputs": [],
   "source": [
    "import pandas \n",
    "import matplotlib.pyplot as pyplot\n",
    "import numpy as np"
   ]
  },
  {
   "cell_type": "code",
   "execution_count": 17,
   "metadata": {},
   "outputs": [
    {
     "name": "stdout",
     "output_type": "stream",
     "text": [
      "Tic 그룹의 머리흔들기(0~1) 평균: 0.47\n",
      "Nontic 그룹의 머리흔들기(0~1) 평균: 0.07\n",
      "Tic 그룹의 평균 눈 감는 횟수(0~1) 평균: 0.83\n",
      "Nontic 그룹의 평균 눈 감는 횟수(0~1) 평균:0.43\n"
     ]
    }
   ],
   "source": [
    "import pandas as pd\n",
    "\n",
    "# 주어진 데이터프레임 생성\n",
    "data = {'점수': ['tic-1', 'tic-2', 'tic-3', 'tic-4', 'tic-5', 'tic-6', 'nontic-1', 'nontic-2', 'nontic-3', 'nontic-4', 'nontic-5', 'nontic-6'],\n",
    "        '머리흔들기(0~1)': [0.4, 0.6, 0.6, 0.2, 0.2, 0.8, 0.2, 0, 0.2, 0, 0, 0],\n",
    "        '비대칭 눈 점수(0~1)': [0.2, 1.0, 0.4, 1.0, 0.6, 1.0, 0, 0, 0.2, 0.2, 0, 0.2],\n",
    "        '평균 눈 감는 횟수(0~1)': [1.0, 1.0, 0.6, 1.0, 0.4, 1.0, 0.8, 1.0, 0, 0.2, 0.2, 0.4],\n",
    "        '그룹': ['Tic', 'Tic', 'Tic', 'Tic', 'Tic', 'Tic', 'Nontic', 'Nontic', 'Nontic', 'Nontic', 'Nontic', 'Nontic']}\n",
    "\n",
    "df = pd.DataFrame(data)\n",
    "\n",
    "# Tic 그룹과 Nontic 그룹의 머리흔들기(0~1) 값의 평균 계산\n",
    "tic_mean = df[df['그룹'] == 'Tic']['머리흔들기(0~1)'].mean()\n",
    "nontic_mean = df[df['그룹'] == 'Nontic']['머리흔들기(0~1)'].mean()\n",
    "blink_tic_mean = df[df['그룹'] == 'Tic']['평균 눈 감는 횟수(0~1)'].mean()\n",
    "blink_nontic_mean = df[df['그룹'] == 'Nontic']['평균 눈 감는 횟수(0~1)'].mean()\n",
    " \n",
    "print(f\"Tic 그룹의 머리흔들기(0~1) 평균: {tic_mean:.2f}\",)\n",
    "print(f\"Nontic 그룹의 머리흔들기(0~1) 평균: {nontic_mean:.2f}\")\n",
    "print(f\"Tic 그룹의 평균 눈 감는 횟수(0~1) 평균: {blink_tic_mean:.2f}\")\n",
    "print(f\"Nontic 그룹의 평균 눈 감는 횟수(0~1) 평균:{blink_nontic_mean:.2f}\" )\n"
   ]
  },
  {
   "cell_type": "code",
   "execution_count": 13,
   "metadata": {},
   "outputs": [
    {
     "data": {
      "text/plain": [
       "array([[0.        , 1.        , 1.        , 0.46473029, 0.49294606],\n",
       "       [0.        , 0.2       , 1.        , 0.20338983, 0.20067797],\n",
       "       [0.        , 0.2       , 1.        , 0.66206897, 0.29241379],\n",
       "       [0.        , 0.2       , 1.        , 0.03947368, 0.16789474],\n",
       "       [0.        , 1.        , 1.        , 0.37912088, 0.47582418],\n",
       "       [0.        , 0.        , 0.        , 0.03962704, 0.00792541],\n",
       "       [0.2       , 1.        , 0.8       , 0.17624521, 0.49524904],\n",
       "       [0.        , 0.2       , 1.        , 0.        , 0.16      ],\n",
       "       [0.        , 0.        , 1.        , 0.35616438, 0.17123288],\n",
       "       [0.        , 1.        , 1.        , 0.01190476, 0.40238095],\n",
       "       [0.2       , 0.4       , 1.        , 0.26612903, 0.35322581],\n",
       "       [0.        , 0.2       , 0.8       , 0.00310559, 0.14062112],\n",
       "       [0.2       , 0.4       , 1.        , 0.26612903, 0.35322581],\n",
       "       [0.2       , 1.        , 0.8       , 0.15625   , 0.49125   ],\n",
       "       [0.        , 0.4       , 1.        , 0.01901141, 0.22380228],\n",
       "       [0.        , 0.2       , 1.        , 0.45042017, 0.25008403]])"
      ]
     },
     "execution_count": 13,
     "metadata": {},
     "output_type": "execute_result"
    }
   ],
   "source": []
  },
  {
   "cell_type": "code",
   "execution_count": 8,
   "metadata": {},
   "outputs": [
    {
     "name": "stderr",
     "output_type": "stream",
     "text": [
      "/Users/cdh/anaconda3/envs/dh/lib/python3.8/site-packages/IPython/core/pylabtools.py:152: UserWarning: Glyph 47672 (\\N{HANGUL SYLLABLE MEO}) missing from current font.\n",
      "  fig.canvas.print_figure(bytes_io, **kw)\n",
      "/Users/cdh/anaconda3/envs/dh/lib/python3.8/site-packages/IPython/core/pylabtools.py:152: UserWarning: Glyph 47532 (\\N{HANGUL SYLLABLE RI}) missing from current font.\n",
      "  fig.canvas.print_figure(bytes_io, **kw)\n",
      "/Users/cdh/anaconda3/envs/dh/lib/python3.8/site-packages/IPython/core/pylabtools.py:152: UserWarning: Glyph 55124 (\\N{HANGUL SYLLABLE HEUN}) missing from current font.\n",
      "  fig.canvas.print_figure(bytes_io, **kw)\n",
      "/Users/cdh/anaconda3/envs/dh/lib/python3.8/site-packages/IPython/core/pylabtools.py:152: UserWarning: Glyph 46308 (\\N{HANGUL SYLLABLE DEUL}) missing from current font.\n",
      "  fig.canvas.print_figure(bytes_io, **kw)\n",
      "/Users/cdh/anaconda3/envs/dh/lib/python3.8/site-packages/IPython/core/pylabtools.py:152: UserWarning: Glyph 44592 (\\N{HANGUL SYLLABLE GI}) missing from current font.\n",
      "  fig.canvas.print_figure(bytes_io, **kw)\n",
      "/Users/cdh/anaconda3/envs/dh/lib/python3.8/site-packages/IPython/core/pylabtools.py:152: UserWarning: Glyph 48712 (\\N{HANGUL SYLLABLE BIN}) missing from current font.\n",
      "  fig.canvas.print_figure(bytes_io, **kw)\n",
      "/Users/cdh/anaconda3/envs/dh/lib/python3.8/site-packages/IPython/core/pylabtools.py:152: UserWarning: Glyph 46020 (\\N{HANGUL SYLLABLE DO}) missing from current font.\n",
      "  fig.canvas.print_figure(bytes_io, **kw)\n",
      "/Users/cdh/anaconda3/envs/dh/lib/python3.8/site-packages/IPython/core/pylabtools.py:152: UserWarning: Glyph 44536 (\\N{HANGUL SYLLABLE GEU}) missing from current font.\n",
      "  fig.canvas.print_figure(bytes_io, **kw)\n",
      "/Users/cdh/anaconda3/envs/dh/lib/python3.8/site-packages/IPython/core/pylabtools.py:152: UserWarning: Glyph 47353 (\\N{HANGUL SYLLABLE RUB}) missing from current font.\n",
      "  fig.canvas.print_figure(bytes_io, **kw)\n",
      "/Users/cdh/anaconda3/envs/dh/lib/python3.8/site-packages/IPython/core/pylabtools.py:152: UserWarning: Glyph 44050 (\\N{HANGUL SYLLABLE GABS}) missing from current font.\n",
      "  fig.canvas.print_figure(bytes_io, **kw)\n",
      "/Users/cdh/anaconda3/envs/dh/lib/python3.8/site-packages/IPython/core/pylabtools.py:152: UserWarning: Glyph 48516 (\\N{HANGUL SYLLABLE BUN}) missing from current font.\n",
      "  fig.canvas.print_figure(bytes_io, **kw)\n",
      "/Users/cdh/anaconda3/envs/dh/lib/python3.8/site-packages/IPython/core/pylabtools.py:152: UserWarning: Glyph 54252 (\\N{HANGUL SYLLABLE PO}) missing from current font.\n",
      "  fig.canvas.print_figure(bytes_io, **kw)\n"
     ]
    },
    {
     "data": {
      "image/png": "[encoded data removed]",
      "text/plain": [
       "<Figure size 576x432 with 1 Axes>"
      ]
     },
     "metadata": {},
     "output_type": "display_data"
    }
   ],
   "source": [
    "num"
   ]
  }
 ],
 "metadata": {
  "kernelspec": {
   "display_name": "dh",
   "language": "python",
   "name": "dh"
  },
  "language_info": {
   "codemirror_mode": {
    "name": "ipython",
    "version": 3
   },
   "file_extension": ".py",
   "mimetype": "text/x-python",
   "name": "python",
   "nbconvert_exporter": "python",
   "pygments_lexer": "ipython3",
   "version": "3.8.18"
  }
 },
 "nbformat": 4,
 "nbformat_minor": 2
}
